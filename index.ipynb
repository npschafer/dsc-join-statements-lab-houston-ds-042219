{
 "cells": [
  {
   "cell_type": "markdown",
   "metadata": {},
   "source": [
    "# Join Statements - Lab\n",
    "\n",
    "## Introduction\n",
    "\n",
    "In this lab, you'll practice your knowledge of join statements, using various types of joins and various methods for specifying the links between them.\n",
    "\n",
    "## Objectives\n",
    "\n",
    "You will be able to:\n",
    "- Write queries that make use of various types of Joins\n",
    "- Join tables using foreign keys"
   ]
  },
  {
   "cell_type": "markdown",
   "metadata": {},
   "source": [
    "## CRM Schema\n",
    "\n",
    "In almost all cases, rather then just working with a single table you will typically need data from multiple tables. \n",
    "Doing this requires the use of **joins ** using shared columns from the two tables. \n",
    "\n",
    "In this lab, you'll use the same Customer Relationship Management (CRM) database that you saw from the previous lesson.\n",
    "<img src='images/Database-Schema.png' width=\"600\">"
   ]
  },
  {
   "cell_type": "markdown",
   "metadata": {},
   "source": [
    "## Connecting to the Database\n",
    "Import the necessary packages and connect to the database **data.sqlite**."
   ]
  },
  {
   "cell_type": "code",
   "execution_count": 2,
   "metadata": {},
   "outputs": [],
   "source": [
    "#Your code here\n",
    "import sqlite3\n",
    "import pandas as pd\n",
    "conn = sqlite3.connect('data.sqlite', detect_types=sqlite3.PARSE_COLNAMES)\n",
    "c = conn.cursor()"
   ]
  },
  {
   "cell_type": "markdown",
   "metadata": {},
   "source": [
    "## Display the names of all the employees in Boston.\n",
    "Hint: join the employees and customers tables."
   ]
  },
  {
   "cell_type": "code",
   "execution_count": 3,
   "metadata": {},
   "outputs": [
    {
     "data": {
      "text/plain": [
       "[('Murphy', 'Diane'),\n",
       " ('Murphy', 'Diane'),\n",
       " ('Patterson', 'Mary'),\n",
       " ('Patterson', 'Mary'),\n",
       " ('Firrelli', 'Jeff'),\n",
       " ('Firrelli', 'Jeff'),\n",
       " ('Patterson', 'William'),\n",
       " ('Patterson', 'William'),\n",
       " ('Bondur', 'Gerard'),\n",
       " ('Bondur', 'Gerard'),\n",
       " ('Bow', 'Anthony'),\n",
       " ('Bow', 'Anthony'),\n",
       " ('Jennings', 'Leslie'),\n",
       " ('Jennings', 'Leslie'),\n",
       " ('Thompson', 'Leslie'),\n",
       " ('Thompson', 'Leslie'),\n",
       " ('Firrelli', 'Julie'),\n",
       " ('Firrelli', 'Julie'),\n",
       " ('Patterson', 'Steve'),\n",
       " ('Patterson', 'Steve'),\n",
       " ('Tseng', 'Foon Yue'),\n",
       " ('Tseng', 'Foon Yue'),\n",
       " ('Vanauf', 'George'),\n",
       " ('Vanauf', 'George'),\n",
       " ('Bondur', 'Loui'),\n",
       " ('Bondur', 'Loui'),\n",
       " ('Hernandez', 'Gerard'),\n",
       " ('Hernandez', 'Gerard'),\n",
       " ('Castillo', 'Pamela'),\n",
       " ('Castillo', 'Pamela'),\n",
       " ('Bott', 'Larry'),\n",
       " ('Bott', 'Larry'),\n",
       " ('Jones', 'Barry'),\n",
       " ('Jones', 'Barry'),\n",
       " ('Fixter', 'Andy'),\n",
       " ('Fixter', 'Andy'),\n",
       " ('Marsh', 'Peter'),\n",
       " ('Marsh', 'Peter'),\n",
       " ('King', 'Tom'),\n",
       " ('King', 'Tom'),\n",
       " ('Nishi', 'Mami'),\n",
       " ('Nishi', 'Mami'),\n",
       " ('Kato', 'Yoshimi'),\n",
       " ('Kato', 'Yoshimi'),\n",
       " ('Gerard', 'Martin'),\n",
       " ('Gerard', 'Martin')]"
      ]
     },
     "execution_count": 3,
     "metadata": {},
     "output_type": "execute_result"
    }
   ],
   "source": [
    "#Your code here\n",
    "c.execute('''SELECT lastName, firstName FROM employees JOIN customers WHERE city = 'Boston' ''').fetchall()"
   ]
  },
  {
   "cell_type": "markdown",
   "metadata": {},
   "source": [
    "## Do any offices have no employees?\n",
    "Hint: Combine the employees and offices tables and use a group by."
   ]
  },
  {
   "cell_type": "code",
   "execution_count": 4,
   "metadata": {},
   "outputs": [
    {
     "data": {
      "text/plain": [
       "[('Boston', 2),\n",
       " ('London', 2),\n",
       " ('NYC', 2),\n",
       " ('Paris', 5),\n",
       " ('San Francisco', 6),\n",
       " ('Sydney', 4),\n",
       " ('Tokyo', 2)]"
      ]
     },
     "execution_count": 4,
     "metadata": {},
     "output_type": "execute_result"
    }
   ],
   "source": [
    "#Your code here\n",
    "c.execute('''SELECT city, count(*) FROM employees AS e JOIN offices AS o ON e.officeCode = o.officeCode GROUP BY city''').fetchall()"
   ]
  },
  {
   "cell_type": "markdown",
   "metadata": {},
   "source": [
    "## Write 3 Questions of your own and answer them"
   ]
  },
  {
   "cell_type": "markdown",
   "metadata": {},
   "source": [
    "# Answers will vary"
   ]
  },
  {
   "cell_type": "code",
   "execution_count": 9,
   "metadata": {},
   "outputs": [
    {
     "data": {
      "text/plain": [
       "[(1,)]"
      ]
     },
     "execution_count": 9,
     "metadata": {},
     "output_type": "execute_result"
    }
   ],
   "source": [
    "# Your code here\n",
    "# How many Toms work for the company?\n",
    "c.execute('''SELECT COUNT(*) FROM employees WHERE firstName = 'Tom' ''').fetchall()"
   ]
  },
  {
   "cell_type": "code",
   "execution_count": 17,
   "metadata": {},
   "outputs": [
    {
     "data": {
      "text/plain": [
       "[('Boston',),\n",
       " ('London',),\n",
       " ('NYC',),\n",
       " ('Paris',),\n",
       " ('San Francisco',),\n",
       " ('Sydney',),\n",
       " ('Tokyo',)]"
      ]
     },
     "execution_count": 17,
     "metadata": {},
     "output_type": "execute_result"
    }
   ],
   "source": [
    "# Your code here\n",
    "# What are all of the cities that the company is in?\n",
    "c.execute('''SELECT city FROM offices GROUP BY city''').fetchall()"
   ]
  },
  {
   "cell_type": "code",
   "execution_count": 19,
   "metadata": {},
   "outputs": [
    {
     "data": {
      "text/plain": [
       "[('dmurphy@classicmodelcars.com',),\n",
       " ('mpatterso@classicmodelcars.com',),\n",
       " ('jfirrelli@classicmodelcars.com',),\n",
       " ('wpatterson@classicmodelcars.com',),\n",
       " ('gbondur@classicmodelcars.com',),\n",
       " ('abow@classicmodelcars.com',),\n",
       " ('ljennings@classicmodelcars.com',),\n",
       " ('lthompson@classicmodelcars.com',),\n",
       " ('jfirrelli@classicmodelcars.com',),\n",
       " ('spatterson@classicmodelcars.com',),\n",
       " ('ftseng@classicmodelcars.com',),\n",
       " ('gvanauf@classicmodelcars.com',),\n",
       " ('lbondur@classicmodelcars.com',),\n",
       " ('ghernande@classicmodelcars.com',),\n",
       " ('pcastillo@classicmodelcars.com',),\n",
       " ('lbott@classicmodelcars.com',),\n",
       " ('bjones@classicmodelcars.com',),\n",
       " ('afixter@classicmodelcars.com',),\n",
       " ('pmarsh@classicmodelcars.com',),\n",
       " ('tking@classicmodelcars.com',),\n",
       " ('mnishi@classicmodelcars.com',),\n",
       " ('ykato@classicmodelcars.com',),\n",
       " ('mgerard@classicmodelcars.com',)]"
      ]
     },
     "execution_count": 19,
     "metadata": {},
     "output_type": "execute_result"
    }
   ],
   "source": [
    "# Your code here\n",
    "# What domains are the e-mail addresses?\n",
    "c.execute('''SELECT email FROM employees''').fetchall()"
   ]
  },
  {
   "cell_type": "markdown",
   "metadata": {},
   "source": [
    "## CRM Schema\n",
    "\n",
    "In almost all cases, rather then just working with a single table you will typically need data from multiple tables. \n",
    "Doing this requires the use of **joins ** using shared columns from the two tables. \n",
    "\n",
    "In this lab, you'll use the same Customer Relationship Management (CRM) database that you saw from the previous lesson.\n",
    "<img src='images/Database-Schema.png' width=\"600\">"
   ]
  },
  {
   "cell_type": "markdown",
   "metadata": {},
   "source": [
    "## Level Up: Display the names of each product each employee has sold"
   ]
  },
  {
   "cell_type": "code",
   "execution_count": null,
   "metadata": {},
   "outputs": [],
   "source": [
    "c.execute('''SELECT COUNT(*) FROM orderdetails''').fetchall()"
   ]
  },
  {
   "cell_type": "code",
   "execution_count": 19,
   "metadata": {},
   "outputs": [
    {
     "name": "stdout",
     "output_type": "stream",
     "text": [
      "109\n"
     ]
    },
    {
     "data": {
      "text/html": [
       "<div>\n",
       "<style scoped>\n",
       "    .dataframe tbody tr th:only-of-type {\n",
       "        vertical-align: middle;\n",
       "    }\n",
       "\n",
       "    .dataframe tbody tr th {\n",
       "        vertical-align: top;\n",
       "    }\n",
       "\n",
       "    .dataframe thead th {\n",
       "        text-align: right;\n",
       "    }\n",
       "</style>\n",
       "<table border=\"1\" class=\"dataframe\">\n",
       "  <thead>\n",
       "    <tr style=\"text-align: right;\">\n",
       "      <th></th>\n",
       "      <th>0</th>\n",
       "      <th>1</th>\n",
       "      <th>2</th>\n",
       "    </tr>\n",
       "  </thead>\n",
       "  <tbody>\n",
       "    <tr>\n",
       "      <th>0</th>\n",
       "      <td>Leslie</td>\n",
       "      <td>Jennings</td>\n",
       "      <td>1928 Mercedes-Benz SSK</td>\n",
       "    </tr>\n",
       "    <tr>\n",
       "      <th>1</th>\n",
       "      <td>Leslie</td>\n",
       "      <td>Jennings</td>\n",
       "      <td>1938 Cadillac V-16 Presidential Limousine</td>\n",
       "    </tr>\n",
       "    <tr>\n",
       "      <th>2</th>\n",
       "      <td>Steve</td>\n",
       "      <td>Patterson</td>\n",
       "      <td>18th century schooner</td>\n",
       "    </tr>\n",
       "    <tr>\n",
       "      <th>3</th>\n",
       "      <td>Steve</td>\n",
       "      <td>Patterson</td>\n",
       "      <td>1903 Ford Model A</td>\n",
       "    </tr>\n",
       "    <tr>\n",
       "      <th>4</th>\n",
       "      <td>Steve</td>\n",
       "      <td>Patterson</td>\n",
       "      <td>1904 Buick Runabout</td>\n",
       "    </tr>\n",
       "  </tbody>\n",
       "</table>\n",
       "</div>"
      ],
      "text/plain": [
       "        0          1                                          2\n",
       "0  Leslie   Jennings                     1928 Mercedes-Benz SSK\n",
       "1  Leslie   Jennings  1938 Cadillac V-16 Presidential Limousine\n",
       "2   Steve  Patterson                      18th century schooner\n",
       "3   Steve  Patterson                          1903 Ford Model A\n",
       "4   Steve  Patterson                        1904 Buick Runabout"
      ]
     },
     "execution_count": 19,
     "metadata": {},
     "output_type": "execute_result"
    }
   ],
   "source": [
    "# Your code here\n",
    "c.execute('''SELECT firstName, lastName, productName \n",
    "                FROM orders o\n",
    "                JOIN orderdetails od USING(orderNumber)\n",
    "                JOIN products p USING(productCode)\n",
    "                JOIN orderdetails od USING(orderNumber)\n",
    "                JOIN customers c USING(customerNumber)\n",
    "                JOIN employees e on c.salesRepEmployeeNumber = e.employeeNumber\n",
    "                GROUP BY productName\n",
    "                ORDER BY e.employeeNumber''')\n",
    "\n",
    "df = pd.DataFrame(c.fetchall())\n",
    "print(len(df))\n",
    "df.head()"
   ]
  },
  {
   "cell_type": "markdown",
   "metadata": {},
   "source": [
    "## CRM Schema\n",
    "\n",
    "In almost all cases, rather then just working with a single table you will typically need data from multiple tables. \n",
    "Doing this requires the use of **joins ** using shared columns from the two tables. \n",
    "\n",
    "In this lab, you'll use the same Customer Relationship Management (CRM) database that you saw from the previous lesson.\n",
    "<img src='images/Database-Schema.png' width=\"600\">"
   ]
  },
  {
   "cell_type": "markdown",
   "metadata": {},
   "source": [
    "## Level Up: Display the Number of Products each employee has sold"
   ]
  },
  {
   "cell_type": "code",
   "execution_count": 24,
   "metadata": {},
   "outputs": [
    {
     "data": {
      "text/plain": [
       "[(326, 'Gerard', 'Hernandez')]"
      ]
     },
     "execution_count": 24,
     "metadata": {},
     "output_type": "execute_result"
    }
   ],
   "source": [
    "c.execute('''SELECT firstName, lastName\n",
    "             FROM orders o\n",
    "             JOIN customers c USING(customerNumber)\n",
    "             JOIN employees e ON c.salesRepEmployeeNumber = e.employeeNumber''').fetchall()"
   ]
  },
  {
   "cell_type": "markdown",
   "metadata": {},
   "source": [
    "## Summary"
   ]
  },
  {
   "cell_type": "markdown",
   "metadata": {},
   "source": [
    "Congrats! You now know how to use join statements, along with leveraging your foreign keys knowledge!"
   ]
  }
 ],
 "metadata": {
  "kernelspec": {
   "display_name": "Python 3",
   "language": "python",
   "name": "python3"
  },
  "language_info": {
   "codemirror_mode": {
    "name": "ipython",
    "version": 3
   },
   "file_extension": ".py",
   "mimetype": "text/x-python",
   "name": "python",
   "nbconvert_exporter": "python",
   "pygments_lexer": "ipython3",
   "version": "3.6.6"
  }
 },
 "nbformat": 4,
 "nbformat_minor": 2
}
